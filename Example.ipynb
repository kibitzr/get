{
 "cells": [
  {
   "cell_type": "code",
   "execution_count": 1,
   "metadata": {},
   "outputs": [],
   "source": [
    "%reload_ext yamlmagic\n",
    "import logging\n",
    "import yaml\n",
    "from kibitzr.main import execute_conf"
   ]
  },
  {
   "cell_type": "code",
   "execution_count": 4,
   "metadata": {},
   "outputs": [
    {
     "data": {
      "application/javascript": [
       "\n",
       "            require(\n",
       "                [\n",
       "                    \"notebook/js/codecell\",\n",
       "                    \"codemirror/mode/yaml/yaml\"\n",
       "                ],\n",
       "                function(cc){\n",
       "                    cc.CodeCell.options_default.highlight_modes.magic_yaml = {\n",
       "                        reg: [\"^%%yaml\"]\n",
       "                    }\n",
       "                }\n",
       "            );\n",
       "            "
      ],
      "text/plain": [
       "<IPython.core.display.Javascript object>"
      ]
     },
     "metadata": {},
     "output_type": "display_data"
    }
   ],
   "source": [
    "%%yaml kibitzr_yml\n",
    "checks:\n",
    "  - batch: \"{0} version\"\n",
    "    url-pattern: https://wordpress.org/plugins/{0}/\n",
    "    transform:\n",
    "      - css: div.entry-meta > div.widget.plugin-meta > ul > li > strong\n",
    "      - text\n",
    "      - python: ok, content = True, conf['name'] + \" \" + content\n",
    "    items:\n",
    "        - akismet\n",
    "        - all-in-one-seo-pack\n",
    "        - contact-form-7\n",
    "    notify:\n",
    "      - python: print(content)"
   ]
  },
  {
   "cell_type": "code",
   "execution_count": 5,
   "metadata": {
    "scrolled": false
   },
   "outputs": [
    {
     "name": "stdout",
     "output_type": "stream",
     "text": [
      "akismet version 3.3\n",
      "all-in-one-seo-pack version 2.3.12.2.1\n",
      "contact-form-7 version 4.7\n"
     ]
    }
   ],
   "source": [
    "execute_conf(kibitzr_yml)"
   ]
  }
 ],
 "metadata": {
  "celltoolbar": "Raw Cell Format",
  "kernelspec": {
   "display_name": "Python 3",
   "language": "python",
   "name": "python3"
  },
  "language_info": {
   "codemirror_mode": {
    "name": "ipython",
    "version": 3
   },
   "file_extension": ".py",
   "mimetype": "text/x-python",
   "name": "python",
   "nbconvert_exporter": "python",
   "pygments_lexer": "ipython3",
   "version": "3.5.2"
  }
 },
 "nbformat": 4,
 "nbformat_minor": 2
}
